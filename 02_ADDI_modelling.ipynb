{
  "nbformat": 4,
  "nbformat_minor": 0,
  "metadata": {
    "colab": {
      "name": "02_ADDI_modelling.ipynb",
      "provenance": [],
      "collapsed_sections": [],
      "authorship_tag": "ABX9TyPHnl8dGSr1tgGXyyxxSTei",
      "include_colab_link": true
    },
    "kernelspec": {
      "name": "python3",
      "display_name": "Python 3"
    },
    "language_info": {
      "name": "python"
    }
  },
  "cells": [
    {
      "cell_type": "markdown",
      "metadata": {
        "id": "view-in-github",
        "colab_type": "text"
      },
      "source": [
        "<a href=\"https://colab.research.google.com/github/EduBarseghian/ADDI_Barseghian/blob/main/02_ADDI_modelling.ipynb\" target=\"_parent\"><img src=\"https://colab.research.google.com/assets/colab-badge.svg\" alt=\"Open In Colab\"/></a>"
      ]
    },
    {
      "cell_type": "code",
      "execution_count": null,
      "metadata": {
        "id": "PTScmT61Wvs-",
        "outputId": "8b9dc1a2-0cd4-4bca-8d9d-9c1a0a1f21fa",
        "colab": {
          "base_uri": "https://localhost:8080/"
        }
      },
      "outputs": [
        {
          "output_type": "stream",
          "name": "stdout",
          "text": [
            "Collecting fast_ml\n",
            "  Downloading fast_ml-3.68-py3-none-any.whl (42 kB)\n",
            "\u001b[?25l\r\u001b[K     |███████▉                        | 10 kB 26.4 MB/s eta 0:00:01\r\u001b[K     |███████████████▋                | 20 kB 8.5 MB/s eta 0:00:01\r\u001b[K     |███████████████████████▍        | 30 kB 9.8 MB/s eta 0:00:01\r\u001b[K     |███████████████████████████████▏| 40 kB 8.6 MB/s eta 0:00:01\r\u001b[K     |████████████████████████████████| 42 kB 443 kB/s \n",
            "\u001b[?25hInstalling collected packages: fast-ml\n",
            "Successfully installed fast-ml-3.68\n"
          ]
        }
      ],
      "source": [
        "import numpy as np\n",
        "import pandas as pd\n",
        "pd.options.display.max_columns=30\n",
        "\n",
        "import matplotlib.pyplot as plt\n",
        "import seaborn as sns\n",
        "\n",
        "from sklearn.preprocessing import StandardScaler\n",
        "\n",
        "!pip install fast_ml\n",
        "from fast_ml.model_development import train_valid_test_split"
      ]
    },
    {
      "cell_type": "code",
      "source": [
        "from sklearn.preprocessing import StandardScaler\n",
        "from sklearn.ensemble import RandomForestClassifier\n",
        "from sklearn.metrics import classification_report, confusion_matrix, plot_confusion_matrix\n",
        "from sklearn.metrics import precision_score\n",
        "from sklearn.model_selection import RandomizedSearchCV\n",
        "from sklearn.linear_model import LogisticRegression"
      ],
      "metadata": {
        "id": "n0c8cJSNx4fo"
      },
      "execution_count": null,
      "outputs": []
    },
    {
      "cell_type": "code",
      "source": [
        "url = \"https://raw.githubusercontent.com/EduBarseghian/ADDI_Barseghian/main/default_of_credit_card_clients.xls\"\n",
        "df = pd.read_excel(url, index_col=0)\n",
        "df.columns = df.iloc[0]\n",
        "df = df.iloc[1: , :]\n",
        "\n",
        "\n",
        "numeric_cols = ['LIMIT_BAL', 'BILL_AMT1', 'BILL_AMT2',\n",
        "                'BILL_AMT3', 'BILL_AMT4', 'BILL_AMT5', 'BILL_AMT6', 'PAY_AMT1',\n",
        "                 'PAY_AMT2', 'PAY_AMT3', 'PAY_AMT4', 'PAY_AMT5', 'PAY_AMT6'\n",
        "               ]\n",
        "\n",
        "ordered_cols = ['PAY_0', 'PAY_2', 'PAY_3', 'PAY_4', 'PAY_5', 'PAY_6', 'AGE']\n",
        "\n",
        "categoric_cols = ['SEX', 'EDUCATION', 'MARRIAGE']\n",
        "\n",
        "target_col = ['default payment next month']\n",
        "\n",
        "df[numeric_cols] = df[numeric_cols].astype(float)\n",
        "df[ordered_cols + categoric_cols + target_col] = df[ordered_cols + categoric_cols + target_col].astype(int)"
      ],
      "metadata": {
        "id": "hIQ7JzZcXa26"
      },
      "execution_count": null,
      "outputs": []
    },
    {
      "cell_type": "markdown",
      "source": [
        "## Para luego aplicar búsqueda de hiperparámetros con más comodidas, vamos a intercambiar los dos valores de la variable target. De 0 a 1 y de 1 a 0."
      ],
      "metadata": {
        "id": "caqCc5AYYFJL"
      }
    },
    {
      "cell_type": "code",
      "source": [
        "df[target_col]=df[target_col].apply(lambda s: 1-s)"
      ],
      "metadata": {
        "id": "olQKcjfUWCCi"
      },
      "execution_count": null,
      "outputs": []
    },
    {
      "cell_type": "code",
      "source": [
        "df.head(3)"
      ],
      "metadata": {
        "colab": {
          "base_uri": "https://localhost:8080/",
          "height": 259
        },
        "id": "FRatGLbwuLD7",
        "outputId": "41d97310-246d-4a84-a512-f05c8098351e"
      },
      "execution_count": null,
      "outputs": [
        {
          "output_type": "execute_result",
          "data": {
            "text/html": [
              "\n",
              "  <div id=\"df-516a031b-bab9-4320-acda-b20e1efe0df6\">\n",
              "    <div class=\"colab-df-container\">\n",
              "      <div>\n",
              "<style scoped>\n",
              "    .dataframe tbody tr th:only-of-type {\n",
              "        vertical-align: middle;\n",
              "    }\n",
              "\n",
              "    .dataframe tbody tr th {\n",
              "        vertical-align: top;\n",
              "    }\n",
              "\n",
              "    .dataframe thead th {\n",
              "        text-align: right;\n",
              "    }\n",
              "</style>\n",
              "<table border=\"1\" class=\"dataframe\">\n",
              "  <thead>\n",
              "    <tr style=\"text-align: right;\">\n",
              "      <th>ID</th>\n",
              "      <th>LIMIT_BAL</th>\n",
              "      <th>SEX</th>\n",
              "      <th>EDUCATION</th>\n",
              "      <th>MARRIAGE</th>\n",
              "      <th>AGE</th>\n",
              "      <th>PAY_0</th>\n",
              "      <th>PAY_2</th>\n",
              "      <th>PAY_3</th>\n",
              "      <th>PAY_4</th>\n",
              "      <th>PAY_5</th>\n",
              "      <th>PAY_6</th>\n",
              "      <th>BILL_AMT1</th>\n",
              "      <th>BILL_AMT2</th>\n",
              "      <th>BILL_AMT3</th>\n",
              "      <th>BILL_AMT4</th>\n",
              "      <th>BILL_AMT5</th>\n",
              "      <th>BILL_AMT6</th>\n",
              "      <th>PAY_AMT1</th>\n",
              "      <th>PAY_AMT2</th>\n",
              "      <th>PAY_AMT3</th>\n",
              "      <th>PAY_AMT4</th>\n",
              "      <th>PAY_AMT5</th>\n",
              "      <th>PAY_AMT6</th>\n",
              "      <th>default payment next month</th>\n",
              "    </tr>\n",
              "  </thead>\n",
              "  <tbody>\n",
              "    <tr>\n",
              "      <th>1</th>\n",
              "      <td>20000.0</td>\n",
              "      <td>2</td>\n",
              "      <td>2</td>\n",
              "      <td>1</td>\n",
              "      <td>24</td>\n",
              "      <td>2</td>\n",
              "      <td>2</td>\n",
              "      <td>-1</td>\n",
              "      <td>-1</td>\n",
              "      <td>-2</td>\n",
              "      <td>-2</td>\n",
              "      <td>3913.0</td>\n",
              "      <td>3102.0</td>\n",
              "      <td>689.0</td>\n",
              "      <td>0.0</td>\n",
              "      <td>0.0</td>\n",
              "      <td>0.0</td>\n",
              "      <td>0.0</td>\n",
              "      <td>689.0</td>\n",
              "      <td>0.0</td>\n",
              "      <td>0.0</td>\n",
              "      <td>0.0</td>\n",
              "      <td>0.0</td>\n",
              "      <td>1</td>\n",
              "    </tr>\n",
              "    <tr>\n",
              "      <th>2</th>\n",
              "      <td>120000.0</td>\n",
              "      <td>2</td>\n",
              "      <td>2</td>\n",
              "      <td>2</td>\n",
              "      <td>26</td>\n",
              "      <td>-1</td>\n",
              "      <td>2</td>\n",
              "      <td>0</td>\n",
              "      <td>0</td>\n",
              "      <td>0</td>\n",
              "      <td>2</td>\n",
              "      <td>2682.0</td>\n",
              "      <td>1725.0</td>\n",
              "      <td>2682.0</td>\n",
              "      <td>3272.0</td>\n",
              "      <td>3455.0</td>\n",
              "      <td>3261.0</td>\n",
              "      <td>0.0</td>\n",
              "      <td>1000.0</td>\n",
              "      <td>1000.0</td>\n",
              "      <td>1000.0</td>\n",
              "      <td>0.0</td>\n",
              "      <td>2000.0</td>\n",
              "      <td>1</td>\n",
              "    </tr>\n",
              "    <tr>\n",
              "      <th>3</th>\n",
              "      <td>90000.0</td>\n",
              "      <td>2</td>\n",
              "      <td>2</td>\n",
              "      <td>2</td>\n",
              "      <td>34</td>\n",
              "      <td>0</td>\n",
              "      <td>0</td>\n",
              "      <td>0</td>\n",
              "      <td>0</td>\n",
              "      <td>0</td>\n",
              "      <td>0</td>\n",
              "      <td>29239.0</td>\n",
              "      <td>14027.0</td>\n",
              "      <td>13559.0</td>\n",
              "      <td>14331.0</td>\n",
              "      <td>14948.0</td>\n",
              "      <td>15549.0</td>\n",
              "      <td>1518.0</td>\n",
              "      <td>1500.0</td>\n",
              "      <td>1000.0</td>\n",
              "      <td>1000.0</td>\n",
              "      <td>1000.0</td>\n",
              "      <td>5000.0</td>\n",
              "      <td>0</td>\n",
              "    </tr>\n",
              "  </tbody>\n",
              "</table>\n",
              "</div>\n",
              "      <button class=\"colab-df-convert\" onclick=\"convertToInteractive('df-516a031b-bab9-4320-acda-b20e1efe0df6')\"\n",
              "              title=\"Convert this dataframe to an interactive table.\"\n",
              "              style=\"display:none;\">\n",
              "        \n",
              "  <svg xmlns=\"http://www.w3.org/2000/svg\" height=\"24px\"viewBox=\"0 0 24 24\"\n",
              "       width=\"24px\">\n",
              "    <path d=\"M0 0h24v24H0V0z\" fill=\"none\"/>\n",
              "    <path d=\"M18.56 5.44l.94 2.06.94-2.06 2.06-.94-2.06-.94-.94-2.06-.94 2.06-2.06.94zm-11 1L8.5 8.5l.94-2.06 2.06-.94-2.06-.94L8.5 2.5l-.94 2.06-2.06.94zm10 10l.94 2.06.94-2.06 2.06-.94-2.06-.94-.94-2.06-.94 2.06-2.06.94z\"/><path d=\"M17.41 7.96l-1.37-1.37c-.4-.4-.92-.59-1.43-.59-.52 0-1.04.2-1.43.59L10.3 9.45l-7.72 7.72c-.78.78-.78 2.05 0 2.83L4 21.41c.39.39.9.59 1.41.59.51 0 1.02-.2 1.41-.59l7.78-7.78 2.81-2.81c.8-.78.8-2.07 0-2.86zM5.41 20L4 18.59l7.72-7.72 1.47 1.35L5.41 20z\"/>\n",
              "  </svg>\n",
              "      </button>\n",
              "      \n",
              "  <style>\n",
              "    .colab-df-container {\n",
              "      display:flex;\n",
              "      flex-wrap:wrap;\n",
              "      gap: 12px;\n",
              "    }\n",
              "\n",
              "    .colab-df-convert {\n",
              "      background-color: #E8F0FE;\n",
              "      border: none;\n",
              "      border-radius: 50%;\n",
              "      cursor: pointer;\n",
              "      display: none;\n",
              "      fill: #1967D2;\n",
              "      height: 32px;\n",
              "      padding: 0 0 0 0;\n",
              "      width: 32px;\n",
              "    }\n",
              "\n",
              "    .colab-df-convert:hover {\n",
              "      background-color: #E2EBFA;\n",
              "      box-shadow: 0px 1px 2px rgba(60, 64, 67, 0.3), 0px 1px 3px 1px rgba(60, 64, 67, 0.15);\n",
              "      fill: #174EA6;\n",
              "    }\n",
              "\n",
              "    [theme=dark] .colab-df-convert {\n",
              "      background-color: #3B4455;\n",
              "      fill: #D2E3FC;\n",
              "    }\n",
              "\n",
              "    [theme=dark] .colab-df-convert:hover {\n",
              "      background-color: #434B5C;\n",
              "      box-shadow: 0px 1px 3px 1px rgba(0, 0, 0, 0.15);\n",
              "      filter: drop-shadow(0px 1px 2px rgba(0, 0, 0, 0.3));\n",
              "      fill: #FFFFFF;\n",
              "    }\n",
              "  </style>\n",
              "\n",
              "      <script>\n",
              "        const buttonEl =\n",
              "          document.querySelector('#df-516a031b-bab9-4320-acda-b20e1efe0df6 button.colab-df-convert');\n",
              "        buttonEl.style.display =\n",
              "          google.colab.kernel.accessAllowed ? 'block' : 'none';\n",
              "\n",
              "        async function convertToInteractive(key) {\n",
              "          const element = document.querySelector('#df-516a031b-bab9-4320-acda-b20e1efe0df6');\n",
              "          const dataTable =\n",
              "            await google.colab.kernel.invokeFunction('convertToInteractive',\n",
              "                                                     [key], {});\n",
              "          if (!dataTable) return;\n",
              "\n",
              "          const docLinkHtml = 'Like what you see? Visit the ' +\n",
              "            '<a target=\"_blank\" href=https://colab.research.google.com/notebooks/data_table.ipynb>data table notebook</a>'\n",
              "            + ' to learn more about interactive tables.';\n",
              "          element.innerHTML = '';\n",
              "          dataTable['output_type'] = 'display_data';\n",
              "          await google.colab.output.renderOutput(dataTable, element);\n",
              "          const docLink = document.createElement('div');\n",
              "          docLink.innerHTML = docLinkHtml;\n",
              "          element.appendChild(docLink);\n",
              "        }\n",
              "      </script>\n",
              "    </div>\n",
              "  </div>\n",
              "  "
            ],
            "text/plain": [
              "ID  LIMIT_BAL  SEX  EDUCATION  MARRIAGE  AGE  PAY_0  PAY_2  PAY_3  PAY_4  \\\n",
              "1     20000.0    2          2         1   24      2      2     -1     -1   \n",
              "2    120000.0    2          2         2   26     -1      2      0      0   \n",
              "3     90000.0    2          2         2   34      0      0      0      0   \n",
              "\n",
              "ID  PAY_5  PAY_6  BILL_AMT1  BILL_AMT2  BILL_AMT3  BILL_AMT4  BILL_AMT5  \\\n",
              "1      -2     -2     3913.0     3102.0      689.0        0.0        0.0   \n",
              "2       0      2     2682.0     1725.0     2682.0     3272.0     3455.0   \n",
              "3       0      0    29239.0    14027.0    13559.0    14331.0    14948.0   \n",
              "\n",
              "ID  BILL_AMT6  PAY_AMT1  PAY_AMT2  PAY_AMT3  PAY_AMT4  PAY_AMT5  PAY_AMT6  \\\n",
              "1         0.0       0.0     689.0       0.0       0.0       0.0       0.0   \n",
              "2      3261.0       0.0    1000.0    1000.0    1000.0       0.0    2000.0   \n",
              "3     15549.0    1518.0    1500.0    1000.0    1000.0    1000.0    5000.0   \n",
              "\n",
              "ID  default payment next month  \n",
              "1                            1  \n",
              "2                            1  \n",
              "3                            0  "
            ]
          },
          "metadata": {},
          "execution_count": 3
        }
      ]
    },
    {
      "cell_type": "code",
      "source": [
        "# Las variables categóricas vinieron encodeadas de entrada.\n",
        "X = df.drop(columns=target_col)\n",
        "y = df[target_col]"
      ],
      "metadata": {
        "id": "nHSHQYAuw1Sq"
      },
      "execution_count": null,
      "outputs": []
    },
    {
      "cell_type": "markdown",
      "source": [
        "***Train test split***"
      ],
      "metadata": {
        "id": "wfj9GEpXUIEw"
      }
    },
    {
      "cell_type": "code",
      "source": [
        "X_train, y_train, X_val, y_val, X_test, y_test = train_valid_test_split(df, target = 'default payment next month', \n",
        "                                                                            train_size=0.8, valid_size=0.1, test_size=0.1, random_state=0)"
      ],
      "metadata": {
        "id": "Jnx-Rau2bftN"
      },
      "execution_count": null,
      "outputs": []
    },
    {
      "cell_type": "markdown",
      "source": [
        "***Escalado.***"
      ],
      "metadata": {
        "id": "-1r_jZ-C6go0"
      }
    },
    {
      "cell_type": "code",
      "source": [
        "scaler = StandardScaler()\n",
        "X_train_scaled = scaler.fit_transform(X_train)\n",
        "X_val_scaled = scaler.transform(X_val)\n",
        "X_test_scaled = scaler.transform(X_test)"
      ],
      "metadata": {
        "id": "fyG-HK1m6iOw"
      },
      "execution_count": null,
      "outputs": []
    },
    {
      "cell_type": "markdown",
      "source": [
        "Al ser un problema e clasificación entrenamos una regresión logística y un Random Forest."
      ],
      "metadata": {
        "id": "4gEFnnZ_aP2l"
      }
    },
    {
      "cell_type": "markdown",
      "source": [
        "## Entrenamos una regresión logística"
      ],
      "metadata": {
        "id": "UZaqroOpZ7GX"
      }
    },
    {
      "cell_type": "code",
      "source": [
        "model_name='LogReg'\n",
        "reg_model = LogisticRegression(penalty='none')\n",
        "reg_model.fit(X_train_scaled,y_train)\n",
        "print(f'{model_name} accuracy score: {reg_model.score(X_val_scaled,y_val):.4}\\n')"
      ],
      "metadata": {
        "colab": {
          "base_uri": "https://localhost:8080/"
        },
        "id": "bkmtKDjsZ_y-",
        "outputId": "b04b81e9-dbf3-4046-c46b-3bbb0261ce4c"
      },
      "execution_count": null,
      "outputs": [
        {
          "output_type": "stream",
          "name": "stdout",
          "text": [
            "LogReg accuracy score: 0.827\n",
            "\n"
          ]
        }
      ]
    },
    {
      "cell_type": "markdown",
      "source": [
        "# Entrenamos un Random Forest"
      ],
      "metadata": {
        "id": "pSgJ5PHJ-V7T"
      }
    },
    {
      "cell_type": "code",
      "source": [
        "test=False\n",
        "model_name=\"RF\"\n",
        "\n",
        "my_model = RandomForestClassifier()\n",
        "my_model.fit(X_train_scaled,y_train)\n",
        "print(f'{model_name} accuracy score: {my_model.score(X_val_scaled,y_val):.4}\\n')"
      ],
      "metadata": {
        "colab": {
          "base_uri": "https://localhost:8080/"
        },
        "id": "Frk0WWuezCg0",
        "outputId": "25a7abba-3160-437c-e48d-935b471a0cec"
      },
      "execution_count": null,
      "outputs": [
        {
          "output_type": "stream",
          "name": "stdout",
          "text": [
            "RF accuracy score: 0.8323\n",
            "\n"
          ]
        }
      ]
    },
    {
      "cell_type": "markdown",
      "source": [
        "Seguimos analizando a partir del RF porque dio un poquito mejor, simplemente."
      ],
      "metadata": {
        "id": "XKI57ZYAaZwP"
      }
    },
    {
      "cell_type": "code",
      "source": [
        "# Predecimos y graficamos la matriz de reporte\n",
        "y_train_pred = my_model.predict(X_train)\n",
        "y_val_pred = my_model.predict(X_val)\n",
        "\n",
        "print(classification_report(y_val, y_val_pred))\n",
        "plot_confusion_matrix(my_model, X_val ,y_val, display_labels=['Default', 'good_client'])"
      ],
      "metadata": {
        "colab": {
          "base_uri": "https://localhost:8080/",
          "height": 453
        },
        "id": "mPuxZNjH7rbk",
        "outputId": "e25c99a4-7013-4543-9298-2584d980c449"
      },
      "execution_count": null,
      "outputs": [
        {
          "output_type": "stream",
          "name": "stdout",
          "text": [
            "              precision    recall  f1-score   support\n",
            "\n",
            "           0       0.46      0.12      0.18       617\n",
            "           1       0.81      0.96      0.88      2383\n",
            "\n",
            "    accuracy                           0.79      3000\n",
            "   macro avg       0.63      0.54      0.53      3000\n",
            "weighted avg       0.74      0.79      0.74      3000\n",
            "\n"
          ]
        },
        {
          "output_type": "execute_result",
          "data": {
            "text/plain": [
              "<sklearn.metrics._plot.confusion_matrix.ConfusionMatrixDisplay at 0x7f24655873d0>"
            ]
          },
          "metadata": {},
          "execution_count": 83
        },
        {
          "output_type": "display_data",
          "data": {
            "image/png": "[encoded data removed]",
            "text/plain": [
              "<Figure size 432x288 with 2 Axes>"
            ]
          },
          "metadata": {
            "needs_background": "light"
          }
        }
      ]
    },
    {
      "cell_type": "markdown",
      "source": [
        "## ELECCIÓN de MÉTRICA\n",
        "\n",
        "En este tipo de problema, además de tener buena Accuracy, se quiere minimizar la cantidad de clientes que el modelo erróneamente predice que no defaultearan.\n",
        "\n",
        "Esto se traduce a querer minimizar la entrada de abajo a la izquierda de la matriz de confusión (en el ejmplo de arriba, el 536, que no es un valor deseado).\n",
        "\n",
        "### Si:\n",
        "\n",
        "A = true positives = godd_clients bien predecidos\n",
        "\n",
        "D = true negatives = defaulters bien predecidos\n",
        "\n",
        "B = false negatives = good_clients como defaulteadores\n",
        "\n",
        "C = false positives = defaulteadores predecidos como good_clients\n",
        "\n",
        "### Entonces\n",
        "\n",
        "1) A + B es constante, es la cantidad de clientes cumplidores (aquí, 2383)\n",
        "\n",
        "2) C + D es constante, es la cantidad de defaulteadores (aqu´, 617)\n",
        "\n",
        "3) A+B+C+D = 3000, el tamaño del conjunto de validación\n",
        "\n",
        "Queremos maximizar A + D (las predicciones correctas), y al mismo tiempo minimizar C (en realidad queremos minimizar B y C, pero un poco más C).\n",
        "\n",
        "Pero minimizar C es maximizar D pues la suma de ambas es constante. Luego, buscamos maximizar A y minimizar C. Esto equivale a maximizar $\\frac{A}{A+C}$\n",
        "\n",
        "En nuestro caso, sirve precision_score de sklearn :\n"
      ],
      "metadata": {
        "id": "O5StVuBJ-2DZ"
      }
    },
    {
      "cell_type": "code",
      "source": [
        "precision_score(y_val, y_val_pred)"
      ],
      "metadata": {
        "colab": {
          "base_uri": "https://localhost:8080/"
        },
        "id": "YHWikRZDXi9Y",
        "outputId": "82130c9b-98ed-4430-cf9a-e86c7210cfd4"
      },
      "execution_count": null,
      "outputs": [
        {
          "output_type": "execute_result",
          "data": {
            "text/plain": [
              "0.8080168776371308"
            ]
          },
          "metadata": {},
          "execution_count": 84
        }
      ]
    },
    {
      "cell_type": "markdown",
      "source": [
        "### Invertimos los valores de la variable target porque era necesario el parámetro pos_label en la precision_score, pero a su vez no era tan fácil especificarlo en la búsqueda de hiperparámetros del modelo."
      ],
      "metadata": {
        "id": "AP-M090lbUJO"
      }
    },
    {
      "cell_type": "code",
      "source": [
        "#precision_score(y_val, y_val_pred, pos_label=0)"
      ],
      "metadata": {
        "id": "qDt4TK7PbSK-"
      },
      "execution_count": null,
      "outputs": []
    },
    {
      "cell_type": "markdown",
      "source": [
        "## Búsqueda de hiperparámetros"
      ],
      "metadata": {
        "id": "EKwKYD6MbrwW"
      }
    },
    {
      "cell_type": "code",
      "source": [
        "# Define parameter values that should be searched\n",
        "bootstrap = [True, False]\n",
        "max_features = ['auto','sqrt']\n",
        "min_samples_leaf = [1,2,4]\n",
        "min_samples_split = [2,5,10]\n",
        "n_estimators = [50,100,150,200]\n",
        "max_depth = [4,6,10,12, None]\n",
        "\n",
        "# Specify \"parameter distributions\" rather than a \"parameter grid\"\n",
        "param_dist = dict(n_estimators=n_estimators, max_depth = max_depth, bootstrap=bootstrap,\n",
        "                  min_samples_leaf=min_samples_leaf,min_samples_split=min_samples_split,\n",
        "                  max_features=max_features)\n",
        "\n",
        "# n_iter controls the number of searches\n",
        "\n",
        "rand = RandomizedSearchCV(RandomForestClassifier(), param_dist, cv=10, scoring=\"precision\",\n",
        "                          n_iter=10, random_state=42)\n",
        "rand.fit(X_train_scaled, y_train)\n",
        "\n",
        "# Uncomment line below to print\n",
        "# rand.cv_results_\n",
        "\n",
        "def get_best_model(model_grid):\n",
        "    best_k = model_grid.cv_results_['rank_test_score'][0]\n",
        "    print (f\"Mean score: {model_grid.cv_results_['mean_test_score'][best_k]}\",\n",
        "           f\"Std: {model_grid.cv_results_['std_test_score'][best_k]}\")\n",
        "           \n",
        "# Examine the best model\n",
        "print(\"Precision del mejor modelo:\")\n",
        "print(rand.best_score_)\n",
        "print(rand.best_params_)\n",
        "get_best_model(rand)"
      ],
      "metadata": {
        "colab": {
          "base_uri": "https://localhost:8080/"
        },
        "id": "Vr5f1nBWQ5DH",
        "outputId": "95b85aa6-daa1-448f-df64-eaaba3e87c95"
      },
      "execution_count": null,
      "outputs": [
        {
          "output_type": "stream",
          "name": "stdout",
          "text": [
            "0.8399093770712485\n",
            "{'n_estimators': 150, 'min_samples_split': 2, 'min_samples_leaf': 1, 'max_features': 'auto', 'max_depth': None, 'bootstrap': True}\n",
            "Mean score: 0.8376134746206537 Std: 0.003689954556321837\n"
          ]
        }
      ]
    },
    {
      "cell_type": "code",
      "source": [
        "model_name=\"best_RF\"\n",
        "\n",
        "best_rf_model = RandomForestClassifier(n_estimators= 150, min_samples_split= 2, min_samples_leaf= 1, max_features=\"auto\", max_depth=None, bootstrap= True)\n",
        "best_rf_model.fit(X_train_scaled,y_train)\n",
        "print(f'{model_name} accuracy score: {best_rf_model.score(X_val_scaled,y_val):.4}\\n')"
      ],
      "metadata": {
        "colab": {
          "base_uri": "https://localhost:8080/"
        },
        "id": "DI_uQegtcxV_",
        "outputId": "909ca88e-a85b-4965-fb2a-a3a15dad912d"
      },
      "execution_count": null,
      "outputs": [
        {
          "output_type": "stream",
          "name": "stdout",
          "text": [
            "best_RF accuracy score: 0.8313\n",
            "\n"
          ]
        }
      ]
    }
  ]
}